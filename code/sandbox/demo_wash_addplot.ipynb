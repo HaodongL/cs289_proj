{
  "nbformat": 4,
  "nbformat_minor": 0,
  "metadata": {
    "colab": {
      "name": "demo_wash.ipynb",
      "provenance": [],
      "collapsed_sections": []
    },
    "kernelspec": {
      "name": "python3",
      "display_name": "Python 3"
    },
    "language_info": {
      "name": "python"
    }
  },
  "cells": [
    {
      "cell_type": "code",
      "execution_count": null,
      "metadata": {
        "id": "mCpDzmNZovXX"
      },
      "outputs": [],
      "source": [
        "import os\n",
        "import numpy as np\n",
        "import pandas as pd\n",
        "os.chdir(\"/content/drive/MyDrive/cs289/proj/code\")\n"
      ]
    },
    {
      "cell_type": "code",
      "source": [
        "pip install pysolnp"
      ],
      "metadata": {
        "id": "gACaMuiopvdf",
        "colab": {
          "base_uri": "https://localhost:8080/"
        },
        "outputId": "57dd753f-7edd-4a7a-9ddd-639c2d602e8f"
      },
      "execution_count": null,
      "outputs": [
        {
          "output_type": "stream",
          "name": "stdout",
          "text": [
            "Collecting pysolnp\n",
            "  Downloading pysolnp-2022.3.13-cp37-cp37m-manylinux_2_17_x86_64.manylinux2014_x86_64.whl (914 kB)\n",
            "\u001b[?25l\r\u001b[K     |▍                               | 10 kB 22.6 MB/s eta 0:00:01\r\u001b[K     |▊                               | 20 kB 16.0 MB/s eta 0:00:01\r\u001b[K     |█                               | 30 kB 11.7 MB/s eta 0:00:01\r\u001b[K     |█▍                              | 40 kB 9.7 MB/s eta 0:00:01\r\u001b[K     |█▉                              | 51 kB 4.5 MB/s eta 0:00:01\r\u001b[K     |██▏                             | 61 kB 5.2 MB/s eta 0:00:01\r\u001b[K     |██▌                             | 71 kB 5.6 MB/s eta 0:00:01\r\u001b[K     |██▉                             | 81 kB 6.0 MB/s eta 0:00:01\r\u001b[K     |███▎                            | 92 kB 6.6 MB/s eta 0:00:01\r\u001b[K     |███▋                            | 102 kB 5.1 MB/s eta 0:00:01\r\u001b[K     |████                            | 112 kB 5.1 MB/s eta 0:00:01\r\u001b[K     |████▎                           | 122 kB 5.1 MB/s eta 0:00:01\r\u001b[K     |████▋                           | 133 kB 5.1 MB/s eta 0:00:01\r\u001b[K     |█████                           | 143 kB 5.1 MB/s eta 0:00:01\r\u001b[K     |█████▍                          | 153 kB 5.1 MB/s eta 0:00:01\r\u001b[K     |█████▊                          | 163 kB 5.1 MB/s eta 0:00:01\r\u001b[K     |██████                          | 174 kB 5.1 MB/s eta 0:00:01\r\u001b[K     |██████▌                         | 184 kB 5.1 MB/s eta 0:00:01\r\u001b[K     |██████▉                         | 194 kB 5.1 MB/s eta 0:00:01\r\u001b[K     |███████▏                        | 204 kB 5.1 MB/s eta 0:00:01\r\u001b[K     |███████▌                        | 215 kB 5.1 MB/s eta 0:00:01\r\u001b[K     |███████▉                        | 225 kB 5.1 MB/s eta 0:00:01\r\u001b[K     |████████▎                       | 235 kB 5.1 MB/s eta 0:00:01\r\u001b[K     |████████▋                       | 245 kB 5.1 MB/s eta 0:00:01\r\u001b[K     |█████████                       | 256 kB 5.1 MB/s eta 0:00:01\r\u001b[K     |█████████▎                      | 266 kB 5.1 MB/s eta 0:00:01\r\u001b[K     |█████████▊                      | 276 kB 5.1 MB/s eta 0:00:01\r\u001b[K     |██████████                      | 286 kB 5.1 MB/s eta 0:00:01\r\u001b[K     |██████████▍                     | 296 kB 5.1 MB/s eta 0:00:01\r\u001b[K     |██████████▊                     | 307 kB 5.1 MB/s eta 0:00:01\r\u001b[K     |███████████                     | 317 kB 5.1 MB/s eta 0:00:01\r\u001b[K     |███████████▌                    | 327 kB 5.1 MB/s eta 0:00:01\r\u001b[K     |███████████▉                    | 337 kB 5.1 MB/s eta 0:00:01\r\u001b[K     |████████████▏                   | 348 kB 5.1 MB/s eta 0:00:01\r\u001b[K     |████████████▌                   | 358 kB 5.1 MB/s eta 0:00:01\r\u001b[K     |█████████████                   | 368 kB 5.1 MB/s eta 0:00:01\r\u001b[K     |█████████████▎                  | 378 kB 5.1 MB/s eta 0:00:01\r\u001b[K     |█████████████▋                  | 389 kB 5.1 MB/s eta 0:00:01\r\u001b[K     |██████████████                  | 399 kB 5.1 MB/s eta 0:00:01\r\u001b[K     |██████████████▎                 | 409 kB 5.1 MB/s eta 0:00:01\r\u001b[K     |██████████████▊                 | 419 kB 5.1 MB/s eta 0:00:01\r\u001b[K     |███████████████                 | 430 kB 5.1 MB/s eta 0:00:01\r\u001b[K     |███████████████▍                | 440 kB 5.1 MB/s eta 0:00:01\r\u001b[K     |███████████████▊                | 450 kB 5.1 MB/s eta 0:00:01\r\u001b[K     |████████████████▏               | 460 kB 5.1 MB/s eta 0:00:01\r\u001b[K     |████████████████▌               | 471 kB 5.1 MB/s eta 0:00:01\r\u001b[K     |████████████████▉               | 481 kB 5.1 MB/s eta 0:00:01\r\u001b[K     |█████████████████▏              | 491 kB 5.1 MB/s eta 0:00:01\r\u001b[K     |█████████████████▌              | 501 kB 5.1 MB/s eta 0:00:01\r\u001b[K     |██████████████████              | 512 kB 5.1 MB/s eta 0:00:01\r\u001b[K     |██████████████████▎             | 522 kB 5.1 MB/s eta 0:00:01\r\u001b[K     |██████████████████▋             | 532 kB 5.1 MB/s eta 0:00:01\r\u001b[K     |███████████████████             | 542 kB 5.1 MB/s eta 0:00:01\r\u001b[K     |███████████████████▍            | 552 kB 5.1 MB/s eta 0:00:01\r\u001b[K     |███████████████████▊            | 563 kB 5.1 MB/s eta 0:00:01\r\u001b[K     |████████████████████            | 573 kB 5.1 MB/s eta 0:00:01\r\u001b[K     |████████████████████▍           | 583 kB 5.1 MB/s eta 0:00:01\r\u001b[K     |████████████████████▊           | 593 kB 5.1 MB/s eta 0:00:01\r\u001b[K     |█████████████████████▏          | 604 kB 5.1 MB/s eta 0:00:01\r\u001b[K     |█████████████████████▌          | 614 kB 5.1 MB/s eta 0:00:01\r\u001b[K     |█████████████████████▉          | 624 kB 5.1 MB/s eta 0:00:01\r\u001b[K     |██████████████████████▏         | 634 kB 5.1 MB/s eta 0:00:01\r\u001b[K     |██████████████████████▋         | 645 kB 5.1 MB/s eta 0:00:01\r\u001b[K     |███████████████████████         | 655 kB 5.1 MB/s eta 0:00:01\r\u001b[K     |███████████████████████▎        | 665 kB 5.1 MB/s eta 0:00:01\r\u001b[K     |███████████████████████▋        | 675 kB 5.1 MB/s eta 0:00:01\r\u001b[K     |████████████████████████        | 686 kB 5.1 MB/s eta 0:00:01\r\u001b[K     |████████████████████████▍       | 696 kB 5.1 MB/s eta 0:00:01\r\u001b[K     |████████████████████████▊       | 706 kB 5.1 MB/s eta 0:00:01\r\u001b[K     |█████████████████████████       | 716 kB 5.1 MB/s eta 0:00:01\r\u001b[K     |█████████████████████████▍      | 727 kB 5.1 MB/s eta 0:00:01\r\u001b[K     |█████████████████████████▉      | 737 kB 5.1 MB/s eta 0:00:01\r\u001b[K     |██████████████████████████▏     | 747 kB 5.1 MB/s eta 0:00:01\r\u001b[K     |██████████████████████████▌     | 757 kB 5.1 MB/s eta 0:00:01\r\u001b[K     |██████████████████████████▉     | 768 kB 5.1 MB/s eta 0:00:01\r\u001b[K     |███████████████████████████▏    | 778 kB 5.1 MB/s eta 0:00:01\r\u001b[K     |███████████████████████████▋    | 788 kB 5.1 MB/s eta 0:00:01\r\u001b[K     |████████████████████████████    | 798 kB 5.1 MB/s eta 0:00:01\r\u001b[K     |████████████████████████████▎   | 808 kB 5.1 MB/s eta 0:00:01\r\u001b[K     |████████████████████████████▋   | 819 kB 5.1 MB/s eta 0:00:01\r\u001b[K     |█████████████████████████████   | 829 kB 5.1 MB/s eta 0:00:01\r\u001b[K     |█████████████████████████████▍  | 839 kB 5.1 MB/s eta 0:00:01\r\u001b[K     |█████████████████████████████▊  | 849 kB 5.1 MB/s eta 0:00:01\r\u001b[K     |██████████████████████████████  | 860 kB 5.1 MB/s eta 0:00:01\r\u001b[K     |██████████████████████████████▍ | 870 kB 5.1 MB/s eta 0:00:01\r\u001b[K     |██████████████████████████████▉ | 880 kB 5.1 MB/s eta 0:00:01\r\u001b[K     |███████████████████████████████▏| 890 kB 5.1 MB/s eta 0:00:01\r\u001b[K     |███████████████████████████████▌| 901 kB 5.1 MB/s eta 0:00:01\r\u001b[K     |███████████████████████████████▉| 911 kB 5.1 MB/s eta 0:00:01\r\u001b[K     |████████████████████████████████| 914 kB 5.1 MB/s \n",
            "\u001b[?25hInstalling collected packages: pysolnp\n",
            "Successfully installed pysolnp-2022.3.13\n"
          ]
        }
      ]
    },
    {
      "cell_type": "code",
      "source": [
        "from data_process import data_prep_task\n",
        "from learners import *\n",
        "from sl_task import sl_task\n",
        "from screeners import Screen_univar, Screen_l1\n",
        "from pipeline import Pipeline\n",
        "from sl_vim import importance"
      ],
      "metadata": {
        "id": "RdyIdtlgpdx8",
        "colab": {
          "base_uri": "https://localhost:8080/"
        },
        "outputId": "6945bc4d-a29a-4d22-eae3-71f83cfe0c07"
      },
      "execution_count": null,
      "outputs": [
        {
          "output_type": "stream",
          "name": "stderr",
          "text": [
            "/usr/local/lib/python3.7/dist-packages/statsmodels/tools/_testing.py:19: FutureWarning: pandas.util.testing is deprecated. Use the functions in the public API at pandas.testing instead.\n",
            "  import pandas.util.testing as tm\n"
          ]
        }
      ]
    },
    {
      "cell_type": "code",
      "source": [
        "\"\"\"\n",
        " import clean wash data\n",
        "\"\"\"\n",
        "X_t, X_v, Y_t, Y_v = data_prep_task('wash', test_size=0.3)"
      ],
      "metadata": {
        "colab": {
          "base_uri": "https://localhost:8080/"
        },
        "id": "RgzREOJop2iD",
        "outputId": "9c813ee5-ee85-4bd8-91dc-766faefdc616"
      },
      "execution_count": null,
      "outputs": [
        {
          "output_type": "stream",
          "name": "stdout",
          "text": [
            "Categorical features imputed successfully.\n",
            "Discrete numerical features imputed successfully.\n",
            "Int values turned into float type successfully.\n",
            "Continuous numerical features imputed successfully.\n",
            "One hot code finished successfully.\n",
            "Dataset is standardized.\n",
            "Data pre-processing is finished.\n"
          ]
        }
      ]
    },
    {
      "cell_type": "code",
      "source": [
        "X_t.shape[0] + X_v.shape[0]"
      ],
      "metadata": {
        "colab": {
          "base_uri": "https://localhost:8080/"
        },
        "id": "XxK2cT2q0uFv",
        "outputId": "5b5fa985-5a78-43aa-9af0-ec2689624f04"
      },
      "execution_count": null,
      "outputs": [
        {
          "output_type": "execute_result",
          "data": {
            "text/plain": [
              "4695"
            ]
          },
          "metadata": {},
          "execution_count": 10
        }
      ]
    },
    {
      "cell_type": "code",
      "source": [
        "\"\"\"\n",
        " fit sl\n",
        "\"\"\"\n",
        "# Step 1. define task\n",
        "task = sl_task(X = X_t, Y = Y_t, family = \"Gaussian\", K = 10)\n",
        "\n",
        "# Step 2. define candidate learners\n",
        "L_glm = Lrnr_glm(sl_task = task)\n",
        "L_lasso = Lrnr_glmnet(sl_task = task)\n",
        "L_rf = Lrnr_rf(sl_task = task)\n",
        "L_xgb = Lrnr_xgboost(sl_task = task, num_round = 150)\n",
        "\n",
        "S_l1 = Screen_l1(sl_task = task, k = 20) # screener univariate\n",
        "L_xgb100 = Lrnr_xgboost(sl_task = task, num_round = 100) # pipepline\n",
        "learners = [S_l1, L_xgb100]\n",
        "L_pipe = Pipeline(sl_task = task, learners = learners)\n",
        "\n",
        "stack = [L_glm, L_lasso, L_rf, L_xgb, L_pipe]\n",
        "\n",
        "# Step 3. initialize sl\n",
        "sl = initialize_sl(sl_task = task, stack = stack, meta = \"nnls\")\n"
      ],
      "metadata": {
        "id": "ZZkb8Ve8qCzc"
      },
      "execution_count": null,
      "outputs": []
    },
    {
      "cell_type": "code",
      "source": [
        "sl.train()"
      ],
      "metadata": {
        "colab": {
          "base_uri": "https://localhost:8080/"
        },
        "id": "dCxtC6YXqhtF",
        "outputId": "6661a789-189e-42d8-bae0-45d6122801ff"
      },
      "execution_count": null,
      "outputs": [
        {
          "output_type": "stream",
          "name": "stdout",
          "text": [
            "Training on Fold 1 of 10 \n",
            "\n",
            "Training on Fold 2 of 10 \n",
            "\n",
            "Training on Fold 3 of 10 \n",
            "\n",
            "Training on Fold 4 of 10 \n",
            "\n",
            "Training on Fold 5 of 10 \n",
            "\n",
            "Training on Fold 6 of 10 \n",
            "\n",
            "Training on Fold 7 of 10 \n",
            "\n",
            "Training on Fold 8 of 10 \n",
            "\n",
            "Training on Fold 9 of 10 \n",
            "\n",
            "Training on Fold 10 of 10 \n",
            "\n"
          ]
        }
      ]
    },
    {
      "cell_type": "code",
      "source": [
        "# summary sl\n",
        "sl.summary()"
      ],
      "metadata": {
        "colab": {
          "base_uri": "https://localhost:8080/"
        },
        "id": "kMDyC-xOq2lQ",
        "outputId": "2f852cee-077b-4e44-9aec-c8d60fdc8d60"
      },
      "execution_count": null,
      "outputs": [
        {
          "output_type": "stream",
          "name": "stdout",
          "text": [
            "==================================================\n",
            " Num. of cv folds:  10 \n",
            " Meta learner:  nnls \n",
            " n:  3286 \n",
            " p:  58\n",
            "==================================================\n",
            "  learner    weight   cv_risk\n",
            "0     glm  0.034239  1.028768\n",
            "1  glmnet  0.110768  1.023921\n",
            "2      rf  0.451732  1.016361\n",
            "3     xgb  0.374800  1.021535\n",
            "4    pipe  0.042812  1.023088\n"
          ]
        }
      ]
    },
    {
      "cell_type": "code",
      "source": [
        "# calculate validation risk with sl\n",
        "y_hat = sl.predict(X_v)\n",
        "square_error_loss(y_hat, Y_v)"
      ],
      "metadata": {
        "colab": {
          "base_uri": "https://localhost:8080/"
        },
        "id": "Z0r6DprOrVvx",
        "outputId": "8c0507ed-3aac-4a0f-a9cc-aa89bdcb35ce"
      },
      "execution_count": null,
      "outputs": [
        {
          "output_type": "execute_result",
          "data": {
            "text/plain": [
              "1.011613953381372"
            ]
          },
          "metadata": {},
          "execution_count": 33
        }
      ]
    },
    {
      "cell_type": "code",
      "source": [
        "for lr in sl.stack:\n",
        "  y_hat = lr.predict(X_v)\n",
        "  print(lr.name)\n",
        "  print(square_error_loss(y_hat, Y_v))"
      ],
      "metadata": {
        "colab": {
          "base_uri": "https://localhost:8080/"
        },
        "id": "BtKeTb1O27hb",
        "outputId": "9a0147aa-e866-479c-8dd7-c04c9aa76031"
      },
      "execution_count": null,
      "outputs": [
        {
          "output_type": "stream",
          "name": "stdout",
          "text": [
            "glm\n",
            "1.009321128952326\n",
            "glmnet\n",
            "1.0148915237200953\n",
            "rf\n",
            "1.0171332687075991\n",
            "xgb\n",
            "1.0340023491120158\n",
            "pipe\n",
            "1.0192827159850382\n"
          ]
        }
      ]
    },
    {
      "cell_type": "code",
      "source": [
        "# variable importance with sl\n",
        "idx_rank, diff_rank = importance(X = X_t, \n",
        "                                 Y = Y_t, \n",
        "                                 stack = stack, \n",
        "                                 meta = \"nnls\", \n",
        "                                 family = \"Gaussian\", \n",
        "                                 K1 = 5, \n",
        "                                 K2 = 10)"
      ],
      "metadata": {
        "id": "rEUMURMLrkyl"
      },
      "execution_count": null,
      "outputs": []
    },
    {
      "cell_type": "code",
      "source": [
        "# rank of feature index based on their importance\n",
        "idx_rank"
      ],
      "metadata": {
        "colab": {
          "base_uri": "https://localhost:8080/"
        },
        "id": "rDCnLoVcsW02",
        "outputId": "bd71acd4-524c-4070-c5a4-1fdefa34bc67"
      },
      "execution_count": null,
      "outputs": [
        {
          "output_type": "execute_result",
          "data": {
            "text/plain": [
              "array([ 2, 45, 44, 41, 38,  1,  0,  4,  9, 37, 54, 11, 40, 13, 43, 47,  8,\n",
              "       42, 14, 57, 36, 39, 10, 12,  5, 50, 56, 34, 27, 48,  7, 29, 26, 25,\n",
              "       31, 15,  6, 53, 35, 46, 20,  3, 16, 52, 19, 21, 33, 32, 51, 30, 55,\n",
              "       17, 49, 24, 28, 18, 22, 23])"
            ]
          },
          "metadata": {},
          "execution_count": 47
        }
      ]
    },
    {
      "cell_type": "code",
      "source": [
        "diff_rank"
      ],
      "metadata": {
        "id": "KoERplJP-Orn"
      },
      "execution_count": null,
      "outputs": []
    },
    {
      "cell_type": "code",
      "source": [
        "from data_process import DataPreProcessing\n",
        "def data_prep_task(name: str, test_size=0.2):\n",
        "    \"\"\"\n",
        "    Function to perform data pre-processing.\n",
        "\n",
        "    Input:\n",
        "        name (str): {'cloud', 'wash'}\n",
        "        test_size\n",
        "\n",
        "    Return value: X_train, X_test, y_train, y_test\n",
        "    \"\"\"\n",
        "    d_prep = DataPreProcessing(name)\n",
        "    if name == 'cloud':\n",
        "        d_prep.label_name = 'expert label'\n",
        "        d_prep.drop_features(drop_cols=['y', 'x'])\n",
        "        # d_prep.standardize()\n",
        "        d_prep.drop_samples()\n",
        "        d_prep.y_con_to_disc()\n",
        "        print('Data pre-processing is finished.')\n",
        "        return d_prep\n",
        "\n",
        "    elif name == 'wash':\n",
        "        d_prep.label_name = 'whz'\n",
        "        d_prep.drop_features(threshold=0.5)\n",
        "\n",
        "        d_prep.categorical.impute()\n",
        "        # print(d_prep.categorical.indicator.dtypes)\n",
        "        d_prep.disc_numerical.impute()\n",
        "        # print(d_prep.disc_numerical.indicator.dtypes)\n",
        "        d_prep.disc_numerical.disc_to_cont()\n",
        "        d_prep.cont_numerical.impute()\n",
        "        # print(d_prep.cont_numerical.indicator.dtypes)\n",
        "        d_prep.categorical.one_hot_code()\n",
        "\n",
        "        d_prep.standarize()\n",
        "        print('Data pre-processing is finished.')\n",
        "        return d_prep\n",
        "\n",
        "    else:\n",
        "        raise NotImplementedError"
      ],
      "metadata": {
        "id": "BiPvNF1o89de"
      },
      "execution_count": null,
      "outputs": []
    },
    {
      "cell_type": "code",
      "source": [
        "dt = data_prep_task('wash', test_size=0.3)"
      ],
      "metadata": {
        "colab": {
          "base_uri": "https://localhost:8080/"
        },
        "id": "R3QBfPFm9DXw",
        "outputId": "aaa06f60-08b5-4d52-8c7f-c9beb2f5874a"
      },
      "execution_count": null,
      "outputs": [
        {
          "output_type": "stream",
          "name": "stdout",
          "text": [
            "Categorical features imputed successfully.\n",
            "Discrete numerical features imputed successfully.\n",
            "Int values turned into float type successfully.\n",
            "Continuous numerical features imputed successfully.\n",
            "One hot code finished successfully.\n",
            "Dataset is standardized.\n",
            "Data pre-processing is finished.\n"
          ]
        }
      ]
    },
    {
      "cell_type": "code",
      "source": [
        "len(dt.df.columns)"
      ],
      "metadata": {
        "colab": {
          "base_uri": "https://localhost:8080/"
        },
        "id": "-IWrimCY9Or8",
        "outputId": "6957f000-d7cb-40e2-b354-279f57cc71d5"
      },
      "execution_count": null,
      "outputs": [
        {
          "output_type": "execute_result",
          "data": {
            "text/plain": [
              "59"
            ]
          },
          "metadata": {},
          "execution_count": 45
        }
      ]
    },
    {
      "cell_type": "code",
      "source": [
        "import matplotlib.pyplot as plt"
      ],
      "metadata": {
        "id": "PiGfEFF4-MXD"
      },
      "execution_count": null,
      "outputs": []
    },
    {
      "cell_type": "code",
      "source": [
        ""
      ],
      "metadata": {
        "id": "7d5upCx5_bMs"
      },
      "execution_count": null,
      "outputs": []
    },
    {
      "cell_type": "code",
      "source": [
        "plt.rcdefaults()\n",
        "fig, ax = plt.subplots()\n",
        "\n",
        "ax.barh(dt.df.columns[idx_rank][0:20], diff_rank[0:20], align='center')\n",
        "ax.invert_yaxis()  # labels read top-to-bottom\n",
        "ax.set_xlabel('Absolute Risk Difference')\n",
        "\n",
        "plt.savefig(\"vim_wash.pdf\")"
      ],
      "metadata": {
        "colab": {
          "base_uri": "https://localhost:8080/",
          "height": 449
        },
        "id": "amfIRC8n-7YZ",
        "outputId": "97869db1-8bc0-4bab-ef65-5dd04e4e2329"
      },
      "execution_count": null,
      "outputs": [
        {
          "output_type": "display_data",
          "data": {
            "text/plain": [
              "<Figure size 640x480 with 1 Axes>"
            ],
            "image/png": "[encoded data removed]"
          },
          "metadata": {}
        }
      ]
    }
  ]
}